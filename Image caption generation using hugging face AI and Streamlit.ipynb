{
 "cells": [
  {
   "cell_type": "code",
   "execution_count": null,
   "id": "058e33b0",
   "metadata": {},
   "outputs": [],
   "source": [
    "import streamlit as st\n",
    "from transformers import pipeline\n",
    "from PIL import Image\n",
    "\n",
    "# Create the caption pipeline\n",
    "caption = pipeline('image-to-text', model=\"ydshieh/vit-gpt2-coco-en\")\n",
    "\n",
    "# Display the image using Streamlit\n",
    "uploaded_image = st.file_uploader(\"Upload an image\", type=[\"png\", \"jpg\", \"jpeg\"])\n",
    "if uploaded_image is not None:\n",
    "    image = Image.open(uploaded_image)\n",
    "    st.image(image, caption=\"Uploaded Image\", use_column_width=True)\n",
    "\n",
    "    # Generate the caption0\n",
    "    if st.button(\"Generate Caption\"):\n",
    "        captions = caption(image)\n",
    "        st.write(captions[0]['generated_text'])"
   ]
  }
 ],
 "metadata": {
  "kernelspec": {
   "display_name": "Python 3 (ipykernel)",
   "language": "python",
   "name": "python3"
  },
  "language_info": {
   "codemirror_mode": {
    "name": "ipython",
    "version": 3
   },
   "file_extension": ".py",
   "mimetype": "text/x-python",
   "name": "python",
   "nbconvert_exporter": "python",
   "pygments_lexer": "ipython3",
   "version": "3.9.13"
  }
 },
 "nbformat": 4,
 "nbformat_minor": 5
}
